{
 "cells": [
  {
   "cell_type": "code",
   "execution_count": 28,
   "id": "57393d8a",
   "metadata": {},
   "outputs": [],
   "source": [
    "import cv2\n",
    "import pytesseract\n",
    "import os\n",
    "import numpy as np\n",
    "import difflib"
   ]
  },
  {
   "cell_type": "code",
   "execution_count": 29,
   "id": "5c180b82",
   "metadata": {},
   "outputs": [
    {
     "name": "stdout",
     "output_type": "stream",
     "text": [
      "Tesseract encontrado: C:\\Program Files\\Tesseract-OCR\\tesseract.exe\n"
     ]
    }
   ],
   "source": [
    "tesseractPath = r\"C:\\Program Files\\Tesseract-OCR\\tesseract.exe\"\n",
    "if not os.path.exists(tesseractPath):\n",
    "    print(\"Caminho incorreto:\", tesseractPath)\n",
    "else:\n",
    "    print(\"Tesseract encontrado:\", tesseractPath)\n",
    "pytesseract.pytesseract.tesseractCmd = tesseractPath"
   ]
  },
  {
   "cell_type": "code",
   "execution_count": 30,
   "id": "e57bcecf",
   "metadata": {},
   "outputs": [],
   "source": [
    "inputFolder = r\"C:\\Users\\Navarro\\Desktop\\Faculdade\\6 sem\\Inteligencia Artificial\\projeto 1 bim\\AI_Training_Images\"\n",
    "watermarkTopFolder = r\"C:\\Users\\Navarro\\Desktop\\Faculdade\\6 sem\\Inteligencia Artificial\\projeto 1 bim\\watermarkTop\"\n",
    "watermarkCenterFolder = r\"C:\\Users\\Navarro\\Desktop\\Faculdade\\6 sem\\Inteligencia Artificial\\projeto 1 bim\\watermarkCenter\"\n",
    "watermarkBottomFolder = r\"C:\\Users\\Navarro\\Desktop\\Faculdade\\6 sem\\Inteligencia Artificial\\projeto 1 bim\\watermarkBottom\"\n",
    "os.makedirs(watermarkTopFolder, exist_ok=True)\n",
    "os.makedirs(watermarkBottomFolder, exist_ok=True)\n",
    "os.makedirs(watermarkCenterFolder, exist_ok=True)"
   ]
  },
  {
   "cell_type": "code",
   "execution_count": 33,
   "id": "72542d67",
   "metadata": {},
   "outputs": [],
   "source": [
    "def processRegion(region):\n",
    "    processedRegion = cv2.adaptiveThreshold(region,255,cv2.ADAPTIVE_THRESH_GAUSSIAN_C,cv2.THRESH_BINARY,11,2)\n",
    "    return processedRegion\n",
    "\n",
    "def detectWatermarkPosition(image):\n",
    "    grayImage = cv2.cvtColor(image, cv2.COLOR_BGR2GRAY)\n",
    "    height = grayImage.shape[0]\n",
    "    topRegion = grayImage[0:height//3, :]\n",
    "    centerRegion = grayImage[height//3:2*height//3, :]\n",
    "    bottomRegion = grayImage[2*height//3:height, :]\n",
    "    topProcessed = processRegion(topRegion)\n",
    "    centerProcessed = processRegion(centerRegion)\n",
    "    bottomProcessed = processRegion(bottomRegion)\n",
    "    configStr = \"--psm 6 -c tessedit_char_whitelist=abcdefghijklmnopqrstuvwxyz-.0123456789\"\n",
    "    expectedText = \"this-person-does-not-exist.com\"\n",
    "    simThreshold = 0.75\n",
    "    regionSims = {}\n",
    "    topText = pytesseract.image_to_string(topProcessed, config=configStr).lower().replace(\" \", \"\")\n",
    "    centerText = pytesseract.image_to_string(centerProcessed, config=configStr).lower().replace(\" \", \"\")\n",
    "    bottomText = pytesseract.image_to_string(bottomProcessed, config=configStr).lower().replace(\" \", \"\")\n",
    "    regionSims[\"top\"] = difflib.SequenceMatcher(None, topText, expectedText).ratio()\n",
    "    regionSims[\"center\"] = difflib.SequenceMatcher(None, centerText, expectedText).ratio()\n",
    "    regionSims[\"bottom\"] = difflib.SequenceMatcher(None, bottomText, expectedText).ratio()\n",
    "    bestRegion = max(regionSims, key=regionSims.get)\n",
    "    if regionSims[bestRegion] >= simThreshold:\n",
    "        return bestRegion\n",
    "    countTop = np.sum(cv2.Canny(topRegion, 50, 150) > 0)\n",
    "    countCenter = np.sum(cv2.Canny(centerRegion, 50, 150) > 0)\n",
    "    countBottom = np.sum(cv2.Canny(bottomRegion, 50, 150) > 0)\n",
    "    edgeCounts = {\"top\": countTop, \"center\": countCenter, \"bottom\": countBottom}\n",
    "    return max(edgeCounts, key=edgeCounts.get)"
   ]
  },
  {
   "cell_type": "code",
   "execution_count": 34,
   "id": "8d79c63f",
   "metadata": {},
   "outputs": [],
   "source": [
    "for imageFile in os.listdir(inputFolder):\n",
    "    if imageFile.lower().endswith((\".png\",\".jpg\",\".jpeg\")):\n",
    "        imagePath = os.path.join(inputFolder,imageFile)\n",
    "        image = cv2.imread(imagePath)\n",
    "        if image is None:\n",
    "            continue\n",
    "        position = detectWatermarkPosition(image)\n",
    "        if position==\"top\":\n",
    "            targetFolder = watermarkTopFolder\n",
    "        elif position==\"center\":\n",
    "            targetFolder = watermarkCenterFolder\n",
    "        else:\n",
    "            targetFolder = watermarkBottomFolder\n",
    "        newPath = os.path.join(targetFolder,imageFile)\n",
    "        cv2.imwrite(newPath,image)"
   ]
  }
 ],
 "metadata": {
  "kernelspec": {
   "display_name": "Python 3",
   "language": "python",
   "name": "python3"
  },
  "language_info": {
   "codemirror_mode": {
    "name": "ipython",
    "version": 3
   },
   "file_extension": ".py",
   "mimetype": "text/x-python",
   "name": "python",
   "nbconvert_exporter": "python",
   "pygments_lexer": "ipython3",
   "version": "3.13.2"
  }
 },
 "nbformat": 4,
 "nbformat_minor": 5
}
