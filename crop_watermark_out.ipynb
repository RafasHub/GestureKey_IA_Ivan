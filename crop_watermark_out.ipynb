{
 "cells": [
  {
   "cell_type": "code",
   "execution_count": 8,
   "id": "1b1e4ab8",
   "metadata": {},
   "outputs": [],
   "source": [
    "import os\n",
    "import sys\n",
    "from PIL import Image"
   ]
  },
  {
   "cell_type": "code",
   "execution_count": 9,
   "id": "de439f2b",
   "metadata": {},
   "outputs": [],
   "source": [
    "def processFolder(inputFolder, cropFunction, prefix, outputFolder):\n",
    "    if not os.path.exists(outputFolder):\n",
    "        os.makedirs(outputFolder)\n",
    "    for fileName in os.listdir(inputFolder):\n",
    "        filePath = os.path.join(inputFolder, fileName)\n",
    "        if filePath.lower().endswith(('.png','.jpg','.jpeg')):\n",
    "            image = Image.open(filePath)\n",
    "            croppedImage = cropFunction(image)\n",
    "            outputFileName = prefix + fileName\n",
    "            croppedImage.save(os.path.join(outputFolder, outputFileName))\n",
    "\n",
    "def cropTop(image):\n",
    "    width, height = image.size\n",
    "    return image.crop((0, 50, width, height))\n",
    "\n",
    "def cropBottom(image):\n",
    "    width, height = image.size\n",
    "    return image.crop((0, 0, width, height - 50))\n",
    "\n",
    "def processImages(inputFolderOne, inputFolderTwo, outputFolder):\n",
    "    processFolder(inputFolderOne, cropTop, \"\", outputFolder)\n",
    "    processFolder(inputFolderTwo, cropBottom, \"\", outputFolder)"
   ]
  },
  {
   "cell_type": "code",
   "execution_count": 10,
   "id": "4aec0bb4",
   "metadata": {},
   "outputs": [],
   "source": [
    "processImages(r\"C:\\Users\\Navarro\\Desktop\\Faculdade\\6 sem\\Inteligencia Artificial\\projeto 1 bim\\watermarkTop\", r\"C:\\Users\\Navarro\\Desktop\\Faculdade\\6 sem\\Inteligencia Artificial\\projeto 1 bim\\watermarkBottom\", r\"C:\\Users\\Navarro\\Desktop\\Faculdade\\6 sem\\Inteligencia Artificial\\projeto 1 bim\\noWatermark\")"
   ]
  }
 ],
 "metadata": {
  "kernelspec": {
   "display_name": "Python 3",
   "language": "python",
   "name": "python3"
  },
  "language_info": {
   "codemirror_mode": {
    "name": "ipython",
    "version": 3
   },
   "file_extension": ".py",
   "mimetype": "text/x-python",
   "name": "python",
   "nbconvert_exporter": "python",
   "pygments_lexer": "ipython3",
   "version": "3.13.2"
  }
 },
 "nbformat": 4,
 "nbformat_minor": 5
}
